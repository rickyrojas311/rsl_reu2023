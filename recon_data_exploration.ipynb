{
 "cells": [
  {
   "cell_type": "code",
   "execution_count": null,
   "metadata": {},
   "outputs": [],
   "source": [
    "import pandas as pd\n",
    "import matplotlib.pyplot\n",
    "import cupy as xp"
   ]
  },
  {
   "cell_type": "code",
   "execution_count": null,
   "metadata": {},
   "outputs": [],
   "source": [
    "recon_df = pd.read_csv(\"/home/ricky/rsl_reu2023/project_data/Abstract_Recons/recon_data.csv\", index_col=0)\n",
    "# recon_df[\"pt_num\"] = recon_df[\"pt_num\"].astype(str)\n",
    "recon_df"
   ]
  },
  {
   "cell_type": "code",
   "execution_count": null,
   "metadata": {},
   "outputs": [],
   "source": [
    "attributes = recon_df[[\"pt_type\", \"pt_id\", \"dmi_type\", \"dmi_settings\", \"contrast_type\", \"prior_res\",\n",
    "                                    \"dmi_res\", \"noise_level\", \"noise_seed\", \"lambda\", \"eta\", \"iter_num\", \"normalize\"]]"
   ]
  },
  {
   "cell_type": "code",
   "execution_count": null,
   "metadata": {},
   "outputs": [],
   "source": [
    "attributes[\"pt_id\"].values"
   ]
  },
  {
   "cell_type": "code",
   "execution_count": 1,
   "metadata": {},
   "outputs": [
    {
     "ename": "NameError",
     "evalue": "name 'pd' is not defined",
     "output_type": "error",
     "traceback": [
      "\u001b[0;31m---------------------------------------------------------------------------\u001b[0m",
      "\u001b[0;31mNameError\u001b[0m                                 Traceback (most recent call last)",
      "\u001b[1;32m/home/ricky/rsl_reu2023/recon_data_exploration.ipynb Cell 5\u001b[0m line \u001b[0;36m1\n\u001b[0;32m----> <a href='vscode-notebook-cell://ssh-remote%2Blambda-vector/home/ricky/rsl_reu2023/recon_data_exploration.ipynb#W4sdnNjb2RlLXJlbW90ZQ%3D%3D?line=0'>1</a>\u001b[0m mask \u001b[39m=\u001b[39m pd\u001b[39m.\u001b[39mSeries(\u001b[39mTrue\u001b[39;00m, index\u001b[39m=\u001b[39mrecon_df\u001b[39m.\u001b[39mindex)\n\u001b[1;32m      <a href='vscode-notebook-cell://ssh-remote%2Blambda-vector/home/ricky/rsl_reu2023/recon_data_exploration.ipynb#W4sdnNjb2RlLXJlbW90ZQ%3D%3D?line=2'>3</a>\u001b[0m img_data\u001b[39m=\u001b[39m{\u001b[39m\"\u001b[39m\u001b[39mpt_type\u001b[39m\u001b[39m\"\u001b[39m: \u001b[39m\"\u001b[39m\u001b[39mBraTS\u001b[39m\u001b[39m\"\u001b[39m, \u001b[39m\"\u001b[39m\u001b[39mpt_id\u001b[39m\u001b[39m\"\u001b[39m: \u001b[39m\"\u001b[39m\u001b[39m9\u001b[39m\u001b[39m\"\u001b[39m, \u001b[39m\"\u001b[39m\u001b[39mdmi_type\u001b[39m\u001b[39m\"\u001b[39m: \u001b[39m\"\u001b[39m\u001b[39mGlx\u001b[39m\u001b[39m\"\u001b[39m, \u001b[39m\"\u001b[39m\u001b[39mdmi_settings\u001b[39m\u001b[39m\"\u001b[39m: \u001b[39m\"\u001b[39m\u001b[39mgm_3.0_wm_1.0_tumor_0.5_ed_2.0\u001b[39m\u001b[39m\"\u001b[39m, \u001b[39m\"\u001b[39m\u001b[39mcontrast_type\u001b[39m\u001b[39m\"\u001b[39m: \u001b[39m\"\u001b[39m\u001b[39mt1\u001b[39m\u001b[39m\"\u001b[39m,\n\u001b[1;32m      <a href='vscode-notebook-cell://ssh-remote%2Blambda-vector/home/ricky/rsl_reu2023/recon_data_exploration.ipynb#W4sdnNjb2RlLXJlbW90ZQ%3D%3D?line=3'>4</a>\u001b[0m                         \u001b[39m\"\u001b[39m\u001b[39mprior_res\u001b[39m\u001b[39m\"\u001b[39m: \u001b[39m6\u001b[39m, \u001b[39m\"\u001b[39m\u001b[39mdmi_res\u001b[39m\u001b[39m\"\u001b[39m: \u001b[39m24\u001b[39m, \u001b[39m\"\u001b[39m\u001b[39mnoise_level\u001b[39m\u001b[39m\"\u001b[39m: \u001b[39m0.2\u001b[39m, \u001b[39m\"\u001b[39m\u001b[39mnoise_seed\u001b[39m\u001b[39m\"\u001b[39m: \u001b[39m6640\u001b[39m}\n\u001b[1;32m      <a href='vscode-notebook-cell://ssh-remote%2Blambda-vector/home/ricky/rsl_reu2023/recon_data_exploration.ipynb#W4sdnNjb2RlLXJlbW90ZQ%3D%3D?line=5'>6</a>\u001b[0m \u001b[39mfor\u001b[39;00m column \u001b[39min\u001b[39;00m img_data\u001b[39m.\u001b[39mkeys():\n",
      "\u001b[0;31mNameError\u001b[0m: name 'pd' is not defined"
     ]
    }
   ],
   "source": [
    "mask = pd.Series(True, index=recon_df.index)\n",
    "\n",
    "img_data={\"pt_type\": \"BraTS\", \"pt_id\": \"9\", \"dmi_type\": \"Glx\", \"dmi_settings\": \"gm_3.0_wm_1.0_tumor_0.5_ed_2.0\", \"contrast_type\": \"t1\",\n",
    "                        \"prior_res\": 6, \"dmi_res\": 24, \"noise_level\": 0.2, \"noise_seed\": 6640}\n",
    "\n",
    "for column in img_data.keys():\n",
    "            if column not in img_data.keys():\n",
    "                mask &= (attributes[column].isna())\n",
    "            else:\n",
    "                mask &= (attributes[column] == img_data[column])\n",
    "recon_df[mask]"
   ]
  }
 ],
 "metadata": {
  "kernelspec": {
   "display_name": "reu2023_SSH",
   "language": "python",
   "name": "python3"
  },
  "language_info": {
   "codemirror_mode": {
    "name": "ipython",
    "version": 3
   },
   "file_extension": ".py",
   "mimetype": "text/x-python",
   "name": "python",
   "nbconvert_exporter": "python",
   "pygments_lexer": "ipython3",
   "version": "3.8.17"
  }
 },
 "nbformat": 4,
 "nbformat_minor": 2
}
